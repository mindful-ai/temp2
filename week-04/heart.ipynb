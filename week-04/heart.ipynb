{
 "cells": [
  {
   "cell_type": "code",
   "execution_count": 1,
   "metadata": {},
   "outputs": [],
   "source": [
    "import numpy as np\n",
    "import pandas as pd\n",
    "import random\n",
    "from sklearn.model_selection import train_test_split\n",
    "from sklearn.preprocessing import MinMaxScaler"
   ]
  },
  {
   "cell_type": "code",
   "execution_count": 2,
   "metadata": {},
   "outputs": [],
   "source": [
    "# Load the dataset\n",
    "data = pd.read_csv('heart.csv')"
   ]
  },
  {
   "cell_type": "code",
   "execution_count": 3,
   "metadata": {},
   "outputs": [],
   "source": [
    "# Split data into features (X) and target (y)\n",
    "X = data.drop(columns=['target'])\n",
    "y = data['target']\n",
    "\n",
    "# Normalize features\n",
    "scaler = MinMaxScaler()\n",
    "X_scaled = scaler.fit_transform(X)\n",
    "\n",
    "# Split the dataset into training and testing\n",
    "X_train, X_test, y_train, y_test = train_test_split(X_scaled, y, test_size=0.2, random_state=42)"
   ]
  },
  {
   "cell_type": "code",
   "execution_count": 4,
   "metadata": {},
   "outputs": [],
   "source": [
    "# Define the environment for Q-learning\n",
    "class HeartDiseaseEnv:\n",
    "    def __init__(self, X, y):\n",
    "        self.X = X\n",
    "        self.y = y\n",
    "        self.n_samples = X.shape[0]\n",
    "        self.state = 0  # Start at the first sample\n",
    "    \n",
    "    def reset(self):\n",
    "        self.state = 0\n",
    "        return self.X[self.state]\n",
    "    \n",
    "    def step(self, action):\n",
    "        correct = (action == self.y[self.state])  # Action is either 0 (no disease) or 1 (disease)\n",
    "        reward = 1 if correct else -1  # Reward for correct prediction\n",
    "        self.state += 1\n",
    "        done = (self.state >= self.n_samples)\n",
    "        next_state = self.X[self.state] if not done else None\n",
    "        return next_state, reward, done\n"
   ]
  },
  {
   "cell_type": "code",
   "execution_count": 5,
   "metadata": {},
   "outputs": [],
   "source": [
    "# Q-Learning Agent\n",
    "class QLearningAgent:\n",
    "    def __init__(self, n_actions, state_size, epsilon=0.1, alpha=0.5, gamma=0.9):\n",
    "        self.epsilon = epsilon  # Exploration rate\n",
    "        self.alpha = alpha  # Learning rate\n",
    "        self.gamma = gamma  # Discount factor\n",
    "        self.q_table = np.zeros((state_size, n_actions))  # Initialize Q-table\n",
    "    \n",
    "    def choose_action(self, state):\n",
    "        if np.random.rand() < self.epsilon:\n",
    "            return np.random.choice([0, 1])  # Explore: Choose randomly (0 = no disease, 1 = disease)\n",
    "        else:\n",
    "            return np.argmax(self.q_table[state])  # Exploit: Choose the action with the highest Q-value\n",
    "    \n",
    "    def update_q_values(self, state, action, reward, next_state):\n",
    "        best_next_action = np.argmax(self.q_table[next_state]) if next_state is not None else 0\n",
    "        td_target = reward + self.gamma * self.q_table[next_state, best_next_action] if next_state is not None else reward\n",
    "        self.q_table[state, action] += self.alpha * (td_target - self.q_table[state, action])\n"
   ]
  },
  {
   "cell_type": "code",
   "execution_count": 6,
   "metadata": {},
   "outputs": [],
   "source": [
    "# Run Q-learning on the dataset\n",
    "def run_ql_heart_disease(X_train, y_train, n_episodes=1000, epsilon=0.1):\n",
    "    env = HeartDiseaseEnv(X_train, y_train)\n",
    "    agent = QLearningAgent(n_actions=2, state_size=X_train.shape[1], epsilon=epsilon)\n",
    "    \n",
    "    for episode in range(n_episodes):\n",
    "        state = env.reset()\n",
    "        done = False\n",
    "        total_reward = 0\n",
    "        \n",
    "        while not done:\n",
    "            action = agent.choose_action(state)\n",
    "            next_state, reward, done = env.step(action)\n",
    "            agent.update_q_values(state, action, reward, next_state)\n",
    "            state = next_state\n",
    "            total_reward += reward\n",
    "        \n",
    "        if episode % 100 == 0:\n",
    "            print(f'Episode {episode}, Total Reward: {total_reward}')\n",
    "    \n",
    "    return agent.q_table"
   ]
  },
  {
   "cell_type": "code",
   "execution_count": 7,
   "metadata": {},
   "outputs": [
    {
     "ename": "IndexError",
     "evalue": "arrays used as indices must be of integer (or boolean) type",
     "output_type": "error",
     "traceback": [
      "\u001b[1;31m---------------------------------------------------------------------------\u001b[0m",
      "\u001b[1;31mIndexError\u001b[0m                                Traceback (most recent call last)",
      "Cell \u001b[1;32mIn[7], line 2\u001b[0m\n\u001b[0;32m      1\u001b[0m \u001b[38;5;66;03m# Example of running Q-learning\u001b[39;00m\n\u001b[1;32m----> 2\u001b[0m q_table \u001b[38;5;241m=\u001b[39m run_ql_heart_disease(X_train, y_train, n_episodes\u001b[38;5;241m=\u001b[39m\u001b[38;5;241m1000\u001b[39m, epsilon\u001b[38;5;241m=\u001b[39m\u001b[38;5;241m0.1\u001b[39m)\n\u001b[0;32m      3\u001b[0m \u001b[38;5;28mprint\u001b[39m(\u001b[38;5;124m\"\u001b[39m\u001b[38;5;124mLearned Q-table:\u001b[39m\u001b[38;5;124m\"\u001b[39m)\n\u001b[0;32m      4\u001b[0m \u001b[38;5;28mprint\u001b[39m(q_table)\n",
      "Cell \u001b[1;32mIn[6], line 12\u001b[0m, in \u001b[0;36mrun_ql_heart_disease\u001b[1;34m(X_train, y_train, n_episodes, epsilon)\u001b[0m\n\u001b[0;32m      9\u001b[0m total_reward \u001b[38;5;241m=\u001b[39m \u001b[38;5;241m0\u001b[39m\n\u001b[0;32m     11\u001b[0m \u001b[38;5;28;01mwhile\u001b[39;00m \u001b[38;5;129;01mnot\u001b[39;00m done:\n\u001b[1;32m---> 12\u001b[0m     action \u001b[38;5;241m=\u001b[39m agent\u001b[38;5;241m.\u001b[39mchoose_action(state)\n\u001b[0;32m     13\u001b[0m     next_state, reward, done \u001b[38;5;241m=\u001b[39m env\u001b[38;5;241m.\u001b[39mstep(action)\n\u001b[0;32m     14\u001b[0m     agent\u001b[38;5;241m.\u001b[39mupdate_q_values(state, action, reward, next_state)\n",
      "Cell \u001b[1;32mIn[5], line 13\u001b[0m, in \u001b[0;36mQLearningAgent.choose_action\u001b[1;34m(self, state)\u001b[0m\n\u001b[0;32m     11\u001b[0m     \u001b[38;5;28;01mreturn\u001b[39;00m np\u001b[38;5;241m.\u001b[39mrandom\u001b[38;5;241m.\u001b[39mchoice([\u001b[38;5;241m0\u001b[39m, \u001b[38;5;241m1\u001b[39m])  \u001b[38;5;66;03m# Explore: Choose randomly (0 = no disease, 1 = disease)\u001b[39;00m\n\u001b[0;32m     12\u001b[0m \u001b[38;5;28;01melse\u001b[39;00m:\n\u001b[1;32m---> 13\u001b[0m     \u001b[38;5;28;01mreturn\u001b[39;00m np\u001b[38;5;241m.\u001b[39margmax(\u001b[38;5;28mself\u001b[39m\u001b[38;5;241m.\u001b[39mq_table[state])\n",
      "\u001b[1;31mIndexError\u001b[0m: arrays used as indices must be of integer (or boolean) type"
     ]
    }
   ],
   "source": [
    "# Example of running Q-learning\n",
    "q_table = run_ql_heart_disease(X_train, y_train, n_episodes=1000, epsilon=0.1)\n",
    "print(\"Learned Q-table:\")\n",
    "print(q_table)"
   ]
  },
  {
   "cell_type": "code",
   "execution_count": null,
   "metadata": {},
   "outputs": [],
   "source": []
  }
 ],
 "metadata": {
  "kernelspec": {
   "display_name": "base",
   "language": "python",
   "name": "python3"
  },
  "language_info": {
   "codemirror_mode": {
    "name": "ipython",
    "version": 3
   },
   "file_extension": ".py",
   "mimetype": "text/x-python",
   "name": "python",
   "nbconvert_exporter": "python",
   "pygments_lexer": "ipython3",
   "version": "3.12.7"
  }
 },
 "nbformat": 4,
 "nbformat_minor": 2
}
